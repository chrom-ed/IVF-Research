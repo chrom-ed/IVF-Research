{
 "cells": [
  {
   "cell_type": "code",
   "execution_count": 1,
   "metadata": {},
   "outputs": [],
   "source": [
    "# import libraries and modules\n",
    "import pandas as pd\n",
    "import matplotlib.pyplot as plt\n",
    "import seaborn as sns\n",
    "import numpy as np\n",
    "import gmaps\n",
    "import scipy.stats as scistats\n",
    "import random\n",
    "import requests\n",
    "import json\n",
    "from datetime import datetime\n",
    "from config import api_key\n",
    "from config import gkey"
   ]
  },
  {
   "cell_type": "code",
   "execution_count": 78,
   "metadata": {},
   "outputs": [],
   "source": [
    "# Kristina: Module to generate list of movie IDs"
   ]
  },
  {
   "cell_type": "code",
   "execution_count": 2,
   "metadata": {},
   "outputs": [],
   "source": [
    "# mock data\n",
    "dataDF = pd.DataFrame({'1970':['10671','11202','10112','10671','11202','10112'],\n",
    "                       '1980':['651','11165','10364','651','11165','10364'],\n",
    "                       '1990':['1685','64512','64512','10112', '9062', '11165'],\n",
    "                      '2000':['1685','64512','64512','10112', '9062', '11165'],\n",
    "                      '2010':['1685','64512','64512','10112', '9062', '11164']})\n",
    "\n",
    "# Evan: Module to get list of people from cast\n",
    "def top2people(movies):\n",
    "    \n",
    "    peopleDict = {'1970':[],'1980':[],'1990':[],'2000':[],'2010':[]}\n",
    "\n",
    "    # loop through each movie in each column\n",
    "    for column in movies.iteritems():\n",
    "        for movie in column[1]:\n",
    "\n",
    "            # request credits list for movie\n",
    "            cast_url = f'https://api.themoviedb.org/3/movie/{movie}/credits?api_key={api_key}'\n",
    "            data = requests.get(cast_url).json()\n",
    "\n",
    "            # get list of cast IDs\n",
    "            idList = {}\n",
    "            for n,x in enumerate(data['cast']):\n",
    "                idList[n] = x['cast_id']\n",
    "\n",
    "            # determine top 2 IDs\n",
    "            idDF = pd.DataFrame.from_dict(idList, orient='index', columns=['cast_id'])\n",
    "            idDF.sort_values('cast_id', inplace=True)\n",
    "            idDF.reset_index(drop=False, inplace=True)\n",
    "\n",
    "            # get person ID for top 2\n",
    "            person1 = data['cast'][idDF.iloc[0]['index']]['id']\n",
    "            person2 = data['cast'][idDF.iloc[1]['index']]['id']\n",
    "\n",
    "            # check for uniqueness \n",
    "            if person1 not in peopleDict[column[0]]:\n",
    "                peopleDict[column[0]].append(person1)\n",
    "            if person2 not in peopleDict[column[0]]:\n",
    "                peopleDict[column[0]].append(person2)\n",
    "                \n",
    "    # convert dictionary of people IDs to DataFrame\n",
    "    peopleDF = pd.DataFrame(dict([(k,pd.Series(v)) for k,v in peopleDict.items()]))\n",
    "    return peopleDF"
   ]
  },
  {
   "cell_type": "code",
   "execution_count": 3,
   "metadata": {},
   "outputs": [],
   "source": [
    "mockpeopleIDs = top2people(dataDF)"
   ]
  },
  {
   "cell_type": "code",
   "execution_count": 5,
   "metadata": {},
   "outputs": [],
   "source": [
    "# Aruna: Module to generate DataFrame of people with birth state and places\n"
   ]
  },
  {
   "cell_type": "code",
   "execution_count": 16,
   "metadata": {
    "scrolled": false
   },
   "outputs": [],
   "source": [
    "# mock data\n",
    "mockPlaces = pd.DataFrame({'place':['Seattle, WA, USA',\n",
    "                                   'Portland, OR, USA',\n",
    "                                   'Los Angeles, CA, USA',\n",
    "                                   'Kansas City, MO, USA',\n",
    "                                   'Toronto, CAN']\n",
    "                       })\n",
    "def placesMap(places):\n",
    "    \n",
    "    # format location data\n",
    "    searchPlaces = [loc.replace(\" \", \"%20\") for loc in places['place']]\n",
    "\n",
    "    # maps url\n",
    "    mapUrl = 'https://maps.googleapis.com/maps/api/place/findplacefromtext/json?inputtype=textquery'\n",
    "\n",
    "    # location dictionary\n",
    "    placesDict = {'lat':[], 'lng':[]}\n",
    "\n",
    "    # iterate through places dataframe\n",
    "    for city in searchPlaces:\n",
    "        # pull city/state variables from the row\n",
    "        search = city\n",
    "        # select fields with lat/long data\n",
    "        fields = 'id,geometry'\n",
    "        # build query url\n",
    "        url = f'{mapUrl}&input={search}&fields={fields}&key={gkey}'\n",
    "        # generate json data\n",
    "        data = requests.get(url).json()\n",
    "        # grab lat and long data from json\n",
    "        lat = data['candidates'][0]['geometry']['location']['lat']\n",
    "        lng = data['candidates'][0]['geometry']['location']['lng']\n",
    "        # add data to dictionary\n",
    "        placesDict['lat'].append(lat)\n",
    "        placesDict['lng'].append(lng)\n",
    "\n",
    "    # location dataframe\n",
    "    locationDF = pd.DataFrame(dict([(k,pd.Series(v)) for k,v in placesDict.items()]))\n",
    "\n",
    "    # Configure gmaps with API key\n",
    "    gmaps.configure(api_key=gkey)\n",
    "\n",
    "    # Store 'Lat' and 'Lng' into  locations \n",
    "    locations = locationDF[['lat','lng']]\n",
    "\n",
    "    # Create a poverty Heatmap layer\n",
    "    fig = gmaps.figure()\n",
    "\n",
    "    bank_layer = gmaps.symbol_layer(\n",
    "        locations, fill_color='rgba(0, 10, 0, 0.4)',\n",
    "        stroke_color='rgba(0, 10, 100, 0.4)', scale=2\n",
    "    )\n",
    "\n",
    "    fig = gmaps.figure()\n",
    "    fig.add_layer(bank_layer)\n",
    "\n",
    "    # heat_layer = gmaps.heatmap_layer(locations,\n",
    "    #                                  dissipating=False, max_intensity=100,\n",
    "    #                                  point_radius = 1)\n",
    "\n",
    "    # # Adjust heat_layer setting to help with heatmap dissipating on zoom\n",
    "    # heat_layer.dissipating = False\n",
    "    # heat_layer.max_intensity = 100\n",
    "    # heat_layer.point_radius = 1\n",
    "\n",
    "    # fig.add_layer(heat_layer)\n",
    "\n",
    "    return fig"
   ]
  },
  {
   "cell_type": "code",
   "execution_count": 17,
   "metadata": {},
   "outputs": [
    {
     "data": {
      "application/vnd.jupyter.widget-view+json": {
       "model_id": "8983087bf6ff4fb5be2efa24f6cc74ec",
       "version_major": 2,
       "version_minor": 0
      },
      "text/plain": [
       "Figure(layout=FigureLayout(height='420px'))"
      ]
     },
     "metadata": {},
     "output_type": "display_data"
    }
   ],
   "source": [
    "placesMap(mockPlaces)"
   ]
  },
  {
   "cell_type": "code",
   "execution_count": null,
   "metadata": {},
   "outputs": [],
   "source": []
  }
 ],
 "metadata": {
  "kernelspec": {
   "display_name": "Python 3",
   "language": "python",
   "name": "python3"
  },
  "language_info": {
   "codemirror_mode": {
    "name": "ipython",
    "version": 3
   },
   "file_extension": ".py",
   "mimetype": "text/x-python",
   "name": "python",
   "nbconvert_exporter": "python",
   "pygments_lexer": "ipython3",
   "version": "3.6.5"
  }
 },
 "nbformat": 4,
 "nbformat_minor": 2
}
