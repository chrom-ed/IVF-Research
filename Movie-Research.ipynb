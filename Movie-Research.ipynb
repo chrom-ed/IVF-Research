{
 "cells": [
  {
   "cell_type": "code",
   "execution_count": 1,
   "metadata": {},
   "outputs": [],
   "source": [
    "# import libraries and modules\n",
    "import pandas as pd\n",
    "import matplotlib.pyplot as plt\n",
    "import seaborn as sns\n",
    "import numpy as np\n",
    "import gmaps\n",
    "import time\n",
    "import scipy.stats as scistats\n",
    "import random\n",
    "import requests\n",
    "import json\n",
    "from datetime import datetime\n",
    "from config import api_key\n",
    "from config import gkey"
   ]
  },
  {
   "cell_type": "code",
   "execution_count": 32,
   "metadata": {},
   "outputs": [],
   "source": [
    "# Kristina: Module to generate list of movie IDs\n",
    "def highest_revenue(x=1960,y=2010):\n",
    "    year_df = pd.DataFrame()\n",
    "    decade_df = pd.DataFrame()\n",
    "    for year in range(x,y): \n",
    "        time.sleep(0.25)\n",
    "        response = requests.get('https://api.themoviedb.org/3/discover/movie?api_key=' \n",
    "                            +  api_key + '&primary_release_year=' + str(year) + '&sort_by=revenue.desc&language=en-US')\n",
    "\n",
    "        #store parsed json response\n",
    "        highest_revenue = response.json() \n",
    "        # highest_revenue\n",
    "        highest_revenue_films = highest_revenue['results']\n",
    "        data_df = pd.DataFrame(highest_revenue_films)\n",
    "\n",
    "        year_df[str(year)] = data_df['id']\n",
    "\n",
    "    for z in range(0,int((y-x)/10)):    \n",
    "        decade_list = []\n",
    "        for year in range(x+(z*10),(x+10)+(z*10)):\n",
    "            decade_list.append(year_df[str(year)])\n",
    "        flat_decade_list = [item for x in decade_list for item in x]\n",
    "        decade_df[str(year-9)] = flat_decade_list\n",
    "    return decade_df"
   ]
  },
  {
   "cell_type": "code",
   "execution_count": 40,
   "metadata": {},
   "outputs": [],
   "source": [
    "# Evan: Module to get list of people from cast\n",
    "def top2people(movies):\n",
    "    \n",
    "    peopleDict = {}\n",
    "\n",
    "    # loop through each movie in each column\n",
    "    for column in movies.iteritems():\n",
    "        peopleDict[column[0]] = []\n",
    "        for movie in column[1]:\n",
    "#             print(movie)\n",
    "            # request credits list for movie\n",
    "            cast_url = f'https://api.themoviedb.org/3/movie/{movie}/credits?api_key={api_key}'\n",
    "            data = requests.get(cast_url).json()\n",
    "            \n",
    "            time.sleep(0.1)\n",
    "\n",
    "            if data['cast']:\n",
    "                # get list of cast IDs\n",
    "                idList = {}\n",
    "                for n,x in enumerate(data['cast']):\n",
    "                    idList[n] = x['cast_id']\n",
    "\n",
    "                # determine top 2 IDs\n",
    "                idDF = pd.DataFrame.from_dict(idList, orient='index', columns=['cast_id'])\n",
    "                idDF.sort_values('cast_id', inplace=True)\n",
    "                idDF.reset_index(drop=False, inplace=True)\n",
    "\n",
    "                # get person ID for top 2\n",
    "                person1 = data['cast'][idDF.iloc[0]['index']]['id']\n",
    "#                 print(f\"    {person1}\")\n",
    "                if len(data['cast']) > 1:\n",
    "                    person2 = data['cast'][idDF.iloc[1]['index']]['id']\n",
    "#                     print(f\"    {person2}\")\n",
    "\n",
    "                # check for uniqueness \n",
    "                if person1 not in peopleDict[column[0]]:\n",
    "                    peopleDict[column[0]].append(person1)\n",
    "                if len(data['cast']) > 1:\n",
    "                    if person2 not in peopleDict[column[0]]:\n",
    "                        peopleDict[column[0]].append(person2)\n",
    "                \n",
    "    # convert dictionary of people IDs to DataFrame\n",
    "    peopleDF = pd.DataFrame(dict([(k,pd.Series(v)) for k,v in peopleDict.items()]))\n",
    "    return peopleDF"
   ]
  },
  {
   "cell_type": "code",
   "execution_count": 55,
   "metadata": {
    "scrolled": true
   },
   "outputs": [
    {
     "data": {
      "text/html": [
       "<div>\n",
       "<style scoped>\n",
       "    .dataframe tbody tr th:only-of-type {\n",
       "        vertical-align: middle;\n",
       "    }\n",
       "\n",
       "    .dataframe tbody tr th {\n",
       "        vertical-align: top;\n",
       "    }\n",
       "\n",
       "    .dataframe thead th {\n",
       "        text-align: right;\n",
       "    }\n",
       "</style>\n",
       "<table border=\"1\" class=\"dataframe\">\n",
       "  <thead>\n",
       "    <tr style=\"text-align: right;\">\n",
       "      <th></th>\n",
       "      <th>1960</th>\n",
       "      <th>1970</th>\n",
       "      <th>1980</th>\n",
       "      <th>1990</th>\n",
       "      <th>2000</th>\n",
       "    </tr>\n",
       "  </thead>\n",
       "  <tbody>\n",
       "    <tr>\n",
       "      <th>0</th>\n",
       "      <td>Amsterdam, New York, USA</td>\n",
       "      <td>Pound Ridge, New York</td>\n",
       "      <td>Concord, California, USA</td>\n",
       "      <td>Houston, Texas, USA</td>\n",
       "      <td>Syracuse, New York, USA</td>\n",
       "    </tr>\n",
       "    <tr>\n",
       "      <th>1</th>\n",
       "      <td>Dorking, Surrey, England, UK</td>\n",
       "      <td>Los Angeles - California - USA</td>\n",
       "      <td>Chicago, Illinois, USA</td>\n",
       "      <td>Roswell, New Mexico, US</td>\n",
       "      <td>Glenrothes, Fife, Scotland, UK</td>\n",
       "    </tr>\n",
       "    <tr>\n",
       "      <th>2</th>\n",
       "      <td>New York City, New York, USA</td>\n",
       "      <td>New York City, New York, USA</td>\n",
       "      <td>New York City - New York - USA</td>\n",
       "      <td>New York City, New York, USA</td>\n",
       "      <td>Wellington, New Zealand</td>\n",
       "    </tr>\n",
       "    <tr>\n",
       "      <th>3</th>\n",
       "      <td>Merced, California, USA</td>\n",
       "      <td>Steubenville, Ohio, USA</td>\n",
       "      <td>Yellowknife, Northwest Territories, Canada</td>\n",
       "      <td>Newark, New Jersey, USA</td>\n",
       "      <td>San Juan, Puerto Rico</td>\n",
       "    </tr>\n",
       "    <tr>\n",
       "      <th>4</th>\n",
       "      <td>Newton, Massachusetts, USA</td>\n",
       "      <td>Wise, Virginia, USA</td>\n",
       "      <td>Ottawa, Ontario, Canada</td>\n",
       "      <td>Smyrna, Georgia, USA</td>\n",
       "      <td>Concord, California, USA</td>\n",
       "    </tr>\n",
       "  </tbody>\n",
       "</table>\n",
       "</div>"
      ],
      "text/plain": [
       "                           1960                            1970  \\\n",
       "0      Amsterdam, New York, USA           Pound Ridge, New York   \n",
       "1  Dorking, Surrey, England, UK  Los Angeles - California - USA   \n",
       "2  New York City, New York, USA    New York City, New York, USA   \n",
       "3       Merced, California, USA         Steubenville, Ohio, USA   \n",
       "4    Newton, Massachusetts, USA             Wise, Virginia, USA   \n",
       "\n",
       "                                         1980                          1990  \\\n",
       "0                    Concord, California, USA           Houston, Texas, USA   \n",
       "1                      Chicago, Illinois, USA       Roswell, New Mexico, US   \n",
       "2              New York City - New York - USA  New York City, New York, USA   \n",
       "3  Yellowknife, Northwest Territories, Canada      Newark, New Jersey, USA    \n",
       "4                     Ottawa, Ontario, Canada          Smyrna, Georgia, USA   \n",
       "\n",
       "                             2000  \n",
       "0         Syracuse, New York, USA  \n",
       "1  Glenrothes, Fife, Scotland, UK  \n",
       "2         Wellington, New Zealand  \n",
       "3           San Juan, Puerto Rico  \n",
       "4        Concord, California, USA  "
      ]
     },
     "execution_count": 55,
     "metadata": {},
     "output_type": "execute_result"
    }
   ],
   "source": [
    "# Aruna: Module to generate DataFrame of people with birth state and places\n",
    "def birthplaces(people)\n",
    "    birthplace = {}\n",
    "    for column in people.iteritems():\n",
    "        birthplace[column[0]] = []\n",
    "        for x in range(column[1].count()):\n",
    "            time.sleep(0.25)\n",
    "            ids = column[1][x]\n",
    "    #         print (ids)\n",
    "    #         print(type(ids))\n",
    "            if ids != 'nan':\n",
    "                url = f'https://api.themoviedb.org/3/person/{ids}?api_key={api_key}'\n",
    "                response = requests.get(url).json()\n",
    "                #names.append(response['name'])\n",
    "\n",
    "            #convert dictionary of people IDs to DataFrame\n",
    "                if response['place_of_birth'] != 'null':\n",
    "                     birthplace[column[0]].append(response['place_of_birth']) \n",
    "    birthDF = pd.DataFrame(dict([(k,pd.Series(v)) for k,v in birthplace.items()]))\n",
    "    return birthDF"
   ]
  },
  {
   "cell_type": "code",
   "execution_count": 119,
   "metadata": {
    "scrolled": false
   },
   "outputs": [],
   "source": [
    "# function to retrieve lat/longs for each birthplace\n",
    "def placesList(places,column):\n",
    "    \n",
    "    # location dictionary\n",
    "    placesDict = {'lat':[], 'lng':[]}\n",
    "    \n",
    "    for x in range(places[column].count()):\n",
    "\n",
    "        place = places[column][x]\n",
    "\n",
    "        if place != None:\n",
    "            # format location data\n",
    "            place.replace(\" \", \"%20\")\n",
    "\n",
    "            # maps url\n",
    "            mapUrl = 'https://maps.googleapis.com/maps/api/place/findplacefromtext/json?inputtype=textquery'\n",
    "\n",
    "            # select fields with lat/long data\n",
    "            fields = 'id,geometry'\n",
    "            # build query url\n",
    "            url = f'{mapUrl}&input={place}&fields={fields}&key={gkey}'\n",
    "            # generate json data\n",
    "            data = requests.get(url).json()\n",
    "            # grab lat and long data from json (try/except loop to avoid countries that no longer exist)\n",
    "            try:\n",
    "                lat = data['candidates'][0]['geometry']['location']['lat']\n",
    "                lng = data['candidates'][0]['geometry']['location']['lng']\n",
    "            except:\n",
    "                print(f'{place} not plotable')\n",
    "            # add data to dictionary\n",
    "            placesDict['lat'].append(lat)\n",
    "            placesDict['lng'].append(lng)\n",
    "\n",
    "    # location dataframe\n",
    "    locationDF = pd.DataFrame(dict([(k,pd.Series(v)) for k,v in placesDict.items()]))\n",
    "\n",
    "    # Configure gmaps with API key\n",
    "    gmaps.configure(api_key=gkey)\n",
    "\n",
    "    # Store 'Lat' and 'Lng' into  locations \n",
    "    locations = locationDF[['lat','lng']]\n",
    "    \n",
    "    return locations\n",
    "\n",
    "\n",
    "# Plotting function\n",
    "def placesMap(locations):\n",
    "    # create a heatmap layer\n",
    "    fig = gmaps.figure(map_type='HYBRID')\n",
    "    heat_layer = gmaps.heatmap_layer(locations, dissipating=True)\n",
    "\n",
    "    fig.add_layer(heat_layer)\n",
    "\n",
    "    return fig"
   ]
  },
  {
   "cell_type": "code",
   "execution_count": null,
   "metadata": {},
   "outputs": [],
   "source": [
    "movies = highest_revenue(1960,2010)"
   ]
  },
  {
   "cell_type": "code",
   "execution_count": null,
   "metadata": {},
   "outputs": [],
   "source": [
    "people = top2people(movies)"
   ]
  },
  {
   "cell_type": "code",
   "execution_count": 99,
   "metadata": {
    "scrolled": false
   },
   "outputs": [
    {
     "name": "stdout",
     "output_type": "stream",
     "text": [
      "Aumale, French Algeria not plotable\n",
      "Vienna-Penzing, Austria-Hungary [now Austria] not plotable\n",
      "Rózsahegy (now Ružomberok), Austria-Hungary (now Slovakia) not plotable\n",
      "Vrútky, Czechoslovakia [now Slovakia] not plotable\n",
      "Nová Včelnice, Czechoslovakia [now Czech Republic] not plotable\n",
      " Tunis, French Protectorate Tunisia [now Tunisia] not plotable\n"
     ]
    }
   ],
   "source": [
    "# Lat/Longs for 1960\n",
    "locations = placesList(birthDF,'1960')"
   ]
  },
  {
   "cell_type": "code",
   "execution_count": 120,
   "metadata": {},
   "outputs": [
    {
     "data": {
      "application/vnd.jupyter.widget-view+json": {
       "model_id": "e04b00710df64b9c8b6c8da540437f36",
       "version_major": 2,
       "version_minor": 0
      },
      "text/plain": [
       "Figure(layout=FigureLayout(height='420px'))"
      ]
     },
     "metadata": {},
     "output_type": "display_data"
    }
   ],
   "source": [
    "#1960 Map\n",
    "placesMap(locations)"
   ]
  },
  {
   "cell_type": "code",
   "execution_count": 121,
   "metadata": {},
   "outputs": [],
   "source": [
    "# Lat/Longs for 1970\n",
    "locations1970 = placesList(birthDF,'1970')"
   ]
  },
  {
   "cell_type": "code",
   "execution_count": 122,
   "metadata": {},
   "outputs": [
    {
     "data": {
      "application/vnd.jupyter.widget-view+json": {
       "model_id": "c5dbbb9895b44149a06d5df6663ae276",
       "version_major": 2,
       "version_minor": 0
      },
      "text/plain": [
       "Figure(layout=FigureLayout(height='420px'))"
      ]
     },
     "metadata": {},
     "output_type": "display_data"
    }
   ],
   "source": [
    "#1970 Map\n",
    "placesMap(locations1970)"
   ]
  },
  {
   "cell_type": "code",
   "execution_count": 123,
   "metadata": {},
   "outputs": [
    {
     "name": "stdout",
     "output_type": "stream",
     "text": [
      "Idar-Oberstein, Allemagne de l'Ouest not plotable\n"
     ]
    }
   ],
   "source": [
    "# Lat/Longs for 1980\n",
    "locations1980 = placesList(birthDF,'1980')"
   ]
  },
  {
   "cell_type": "code",
   "execution_count": 124,
   "metadata": {},
   "outputs": [
    {
     "data": {
      "application/vnd.jupyter.widget-view+json": {
       "model_id": "ee7b3754637544758a6b18461cdd443b",
       "version_major": 2,
       "version_minor": 0
      },
      "text/plain": [
       "Figure(layout=FigureLayout(height='420px'))"
      ]
     },
     "metadata": {},
     "output_type": "display_data"
    }
   ],
   "source": [
    "#1980 Map\n",
    "placesMap(locations1980)"
   ]
  },
  {
   "cell_type": "code",
   "execution_count": 125,
   "metadata": {},
   "outputs": [
    {
     "name": "stdout",
     "output_type": "stream",
     "text": [
      "Idar-Oberstein, Allemagne de l'Ouest not plotable\n",
      "Manciano La Misericordia, Castiglion Fiorentino, Arezzo, Italia not plotable\n"
     ]
    }
   ],
   "source": [
    "# Lat/Longs for 1990\n",
    "locations1990 = placesList(birthDF,'1990')"
   ]
  },
  {
   "cell_type": "code",
   "execution_count": 126,
   "metadata": {},
   "outputs": [
    {
     "data": {
      "application/vnd.jupyter.widget-view+json": {
       "model_id": "84addf863b46474ab2f58a57fd291ba5",
       "version_major": 2,
       "version_minor": 0
      },
      "text/plain": [
       "Figure(layout=FigureLayout(height='420px'))"
      ]
     },
     "metadata": {},
     "output_type": "display_data"
    }
   ],
   "source": [
    "#1990 Map\n",
    "placesMap(locations1990)"
   ]
  },
  {
   "cell_type": "code",
   "execution_count": 127,
   "metadata": {},
   "outputs": [
    {
     "name": "stdout",
     "output_type": "stream",
     "text": [
      "Idar-Oberstein, Allemagne de l'Ouest not plotable\n"
     ]
    }
   ],
   "source": [
    "# Lat/Longs for 1990\n",
    "locations2000 = placesList(birthDF,'2000')"
   ]
  },
  {
   "cell_type": "code",
   "execution_count": 128,
   "metadata": {},
   "outputs": [
    {
     "data": {
      "application/vnd.jupyter.widget-view+json": {
       "model_id": "9f3ad36acbfa4901936ff0b877b72f7c",
       "version_major": 2,
       "version_minor": 0
      },
      "text/plain": [
       "Figure(layout=FigureLayout(height='420px'))"
      ]
     },
     "metadata": {},
     "output_type": "display_data"
    }
   ],
   "source": [
    "#2000 Map\n",
    "placesMap(locations2000)"
   ]
  },
  {
   "cell_type": "code",
   "execution_count": null,
   "metadata": {},
   "outputs": [],
   "source": []
  }
 ],
 "metadata": {
  "kernelspec": {
   "display_name": "Python 3",
   "language": "python",
   "name": "python3"
  },
  "language_info": {
   "codemirror_mode": {
    "name": "ipython",
    "version": 3
   },
   "file_extension": ".py",
   "mimetype": "text/x-python",
   "name": "python",
   "nbconvert_exporter": "python",
   "pygments_lexer": "ipython3",
   "version": "3.6.5"
  }
 },
 "nbformat": 4,
 "nbformat_minor": 2
}
