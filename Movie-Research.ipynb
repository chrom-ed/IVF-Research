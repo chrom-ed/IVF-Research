{
 "cells": [
  {
   "cell_type": "code",
   "execution_count": 71,
   "metadata": {},
   "outputs": [],
   "source": [
    "# import libraries and modules\n",
    "import pandas as pd\n",
    "import matplotlib.pyplot as plt\n",
    "import seaborn as sns\n",
    "import numpy as np\n",
    "import gmaps\n",
    "import scipy.stats as scistats\n",
    "import random\n",
    "import requests\n",
    "import json\n",
    "from datetime import datetime\n",
    "from config import api_key"
   ]
  },
  {
   "cell_type": "code",
   "execution_count": 78,
   "metadata": {},
   "outputs": [],
   "source": [
    "# Kristina: Module to generate list of movie IDs"
   ]
  },
  {
   "cell_type": "code",
   "execution_count": 79,
   "metadata": {},
   "outputs": [],
   "source": [
    "# mock data\n",
    "dataDF = pd.DataFrame({'1970':['10671','11202','10112','10671','11202','10112'],\n",
    "                       '1980':['651','11165','10364','651','11165','10364'],\n",
    "                       '1990':['1685','64512','64512','10112', '9062', '11165'],\n",
    "                      '2000':['1685','64512','64512','10112', '9062', '11165'],\n",
    "                      '2010':['1685','64512','64512','10112', '9062', '11164']})\n",
    "\n",
    "# Evan: Module to get list of people from cast\n",
    "def top2people(movies):\n",
    "    \n",
    "    peopleDict = {'1970':[],'1980':[],'1990':[],'2000':[],'2010':[]}\n",
    "\n",
    "    # loop through each movie in each column\n",
    "    for column in movies.iteritems():\n",
    "        for movie in column[1]:\n",
    "\n",
    "            # request credits list for movie\n",
    "            cast_url = f'https://api.themoviedb.org/3/movie/{movie}/credits?api_key={api_key}'\n",
    "            data = requests.get(cast_url).json()\n",
    "\n",
    "            # get list of cast IDs\n",
    "            idList = {}\n",
    "            for n,x in enumerate(data['cast']):\n",
    "                idList[n] = x['cast_id']\n",
    "\n",
    "            # determine top 2 IDs\n",
    "            idDF = pd.DataFrame.from_dict(idList, orient='index', columns=['cast_id'])\n",
    "            idDF.sort_values('cast_id', inplace=True)\n",
    "            idDF.reset_index(drop=False, inplace=True)\n",
    "\n",
    "            # get person ID for top 2\n",
    "            person1 = data['cast'][idDF.iloc[0]['index']]['id']\n",
    "            person2 = data['cast'][idDF.iloc[1]['index']]['id']\n",
    "\n",
    "            # check for uniqueness \n",
    "            if person1 not in peopleDict[column[0]]:\n",
    "                peopleDict[column[0]].append(person1)\n",
    "            if person2 not in peopleDict[column[0]]:\n",
    "                peopleDict[column[0]].append(person2)\n",
    "                \n",
    "    # convert dictionary of people IDs to DataFrame\n",
    "    peopleDF = pd.DataFrame(dict([(k,pd.Series(v)) for k,v in peopleDict.items()]))\n",
    "    return peopleDF"
   ]
  },
  {
   "cell_type": "code",
   "execution_count": 81,
   "metadata": {},
   "outputs": [],
   "source": [
    "mockpeopleIDs = top2people(dataDF)"
   ]
  },
  {
   "cell_type": "code",
   "execution_count": 10,
   "metadata": {},
   "outputs": [],
   "source": [

    "# Aruna: Module to generate DataFrame of people with birth state and places"
   ]
  },
  {
   "cell_type": "code",
   "execution_count": null,
   "metadata": {},
   "outputs": [],
   "source": [
    "# Module to plot birthplaces on gmaps"
   ]
  },
  {
   "cell_type": "code",
   "execution_count": null,
   "metadata": {},
   "outputs": [],
   "source": []
  }
 ],
 "metadata": {
  "kernelspec": {
   "display_name": "Python 3",
   "language": "python",
   "name": "python3"
  },
  "language_info": {
   "codemirror_mode": {
    "name": "ipython",
    "version": 3
   },
   "file_extension": ".py",
   "mimetype": "text/x-python",
   "name": "python",
   "nbconvert_exporter": "python",
   "pygments_lexer": "ipython3",
   "version": "3.6.5"
  }
 },
 "nbformat": 4,
 "nbformat_minor": 2
}
